{
 "cells": [
  {
   "cell_type": "markdown",
   "metadata": {},
   "source": [
    "## This assignment may be worked individually or in pairs. \n",
    "## Enter your name/names here:\n",
    "    "
   ]
  },
  {
   "cell_type": "code",
   "execution_count": 1,
   "metadata": {
    "collapsed": true
   },
   "outputs": [],
   "source": [
    "# Garrett Kelley glk447"
   ]
  },
  {
   "cell_type": "markdown",
   "metadata": {
    "collapsed": true
   },
   "source": [
    "# Assignment 2: Naive Bayes and KNN classifier\n",
    "\n",
    "In this assignment you'll implement the Naive Bayes and KNN classifiers to classify patients as either having or not having diabetic retinopathy. For this task we'll be using the same Diabetic Retinopathy data set which was used in the previous assignment on decision trees. The implementation details are up to you but, generally it is a good idea to divide your code up into helper functions."
   ]
  },
  {
   "cell_type": "code",
   "execution_count": 1,
   "metadata": {},
   "outputs": [],
   "source": [
    "# Standard Headers\n",
    "# You are welcome to add additional headers if you wish\n",
    "# EXCEPT for scikit-learn... You may NOT use scikit-learn for this assignment!\n",
    "import pandas as pd\n",
    "import numpy as np\n",
    "import matplotlib.pyplot as plt\n",
    "from math import log\n",
    "from random import shuffle"
   ]
  },
  {
   "cell_type": "markdown",
   "metadata": {},
   "source": [
    "Read the data from a CSV file. You may choose to store it any any format you wish, like a Pandas dataframe, or any other data structure you'd like."
   ]
  },
  {
   "cell_type": "code",
   "execution_count": 10,
   "metadata": {},
   "outputs": [],
   "source": [
    "def get_data(filename):\n",
    "    data = []\n",
    "    data = pd.read_csv(filename, header=None)\n",
    "\n",
    "    return data"
   ]
  },
  {
   "cell_type": "markdown",
   "metadata": {},
   "source": [
    "## Part 1: Naive Bayes Classifier\n",
    "\n",
    "Naive Bayes (NB) classifier is a simple probabilistic classifier that is based on applying the Bayes' theorem and assumes a strong (naive) independence between features. The Diabetic Retinopathy data set contains both categorical and continuous features. Dealing with categorical features has been discussed in detail in class. Continuous attributes, on the other hand, are more interesting to handle. Most commonly, this is done by assuming normal probability distribution over the feature values or by binning the attribute values in a fixed number of bins. In this assignment you'll be implementing the binning approach. For each continuous attribute, you'll construct 3 equal sized bins. For example, feature 5 ranges from `[1 - 120]` the 3 bins that you'll construct will be `[1 - 40]`, `[41 - 80]`, `[81 - 120]`."
   ]
  },
  {
   "cell_type": "markdown",
   "metadata": {},
   "source": [
    "Q1. Implement a Naive Bayes classifier. Measure the accuracy of your classifier using 5-fold cross validation and display the confusion matrix. Also print the precision and recall for class label 1 (patients that have been diagnosed with the disease)."
   ]
  },
  {
   "cell_type": "code",
   "execution_count": 52,
   "metadata": {},
   "outputs": [
    {
     "name": "stdout",
     "output_type": "stream",
     "text": [
      "231 460\n",
      "461 690\n",
      "691 920\n",
      "921 1150\n"
     ]
    }
   ],
   "source": [
    "# get data\n",
    "data = get_data('messidor_features.txt')\n",
    "\n",
    "# initialize probability matrices for each feature using laplace smoothing\n",
    "feature_0_matrix = np.zeros((3, 2))\n",
    "feature_0_matrix[0:2][:] = 1\n",
    "feature_0_matrix[2][:] = 2\n",
    "feature_1_matrix = np.zeros((3, 2))\n",
    "feature_1_matrix[0:2][:] = 1\n",
    "feature_1_matrix[2][:] = 2\n",
    "feature_2_matrix = np.zeros((4, 2))\n",
    "feature_2_matrix[0:3][:] = 1\n",
    "feature_2_matrix[3][:] = 3\n",
    "feature_2_min = data.iloc[:, 2].min()\n",
    "feature_2_max = data.iloc[:, 2].max()\n",
    "feature_3_matrix = np.zeros((4, 2))\n",
    "feature_3_matrix[0:3][:] = 1\n",
    "feature_3_matrix[3][:] = 3\n",
    "feature_3_min = data.iloc[:, 3].min()\n",
    "feature_3_max = data.iloc[:, 3].max()\n",
    "feature_4_matrix = np.zeros((4, 2))\n",
    "feature_4_matrix[0:3][:] = 1\n",
    "feature_4_matrix[3][:] = 3\n",
    "feature_4_min = data.iloc[:, 4].min()\n",
    "feature_4_max = data.iloc[:, 4].max()\n",
    "feature_5_matrix = np.zeros((4, 2))\n",
    "feature_5_matrix[0:3][:] = 1\n",
    "feature_5_matrix[3][:] = 3\n",
    "feature_5_min = data.iloc[:, 5].min()\n",
    "feature_5_max = data.iloc[:, 5].max()\n",
    "\n",
    "feature_6_matrix = np.zeros((4, 2))\n",
    "feature_6_matrix[0:3][:] = 1\n",
    "feature_6_matrix[3][:] = 3\n",
    "feature_6_min = data.iloc[:, 6].min()\n",
    "feature_6_max = data.iloc[:, 6].max()\n",
    "\n",
    "feature_7_matrix = np.zeros((4, 2))\n",
    "feature_7_matrix[0:3][:] = 1\n",
    "feature_7_matrix[3][:] = 3\n",
    "feature_7_min = data.iloc[:, 7].min()\n",
    "feature_7_max = data.iloc[:, 7].max()\n",
    "\n",
    "feature_8_matrix = np.zeros((4, 2))\n",
    "feature_8_matrix[0:3][:] = 1\n",
    "feature_8_matrix[3][:] = 3\n",
    "feature_8_min = data.iloc[:, 8].min()\n",
    "feature_8_max = data.iloc[:, 8].max()\n",
    "\n",
    "feature_9_matrix = np.zeros((4, 2))\n",
    "feature_9_matrix[0:3][:] = 1\n",
    "feature_9_matrix[3][:] = 3\n",
    "feature_9_min = data.iloc[:, 9].min()\n",
    "feature_9_max = data.iloc[:, 9].max()\n",
    "\n",
    "feature_10_matrix = np.zeros((4, 2))\n",
    "feature_10_matrix[0:3][:] = 1\n",
    "feature_10_matrix[3][:] = 3\n",
    "feature_10_min = data.iloc[:, 10].min()\n",
    "feature_10_max = data.iloc[:, 10].max()\n",
    "\n",
    "feature_11_matrix = np.zeros((4, 2))\n",
    "feature_11_matrix[0:3][:] = 1\n",
    "feature_11_matrix[3][:] = 3\n",
    "feature_11_min = data.iloc[:, 11].min()\n",
    "feature_11_max = data.iloc[:, 11].max()\n",
    "\n",
    "feature_12_matrix = np.zeros((4, 2))\n",
    "feature_12_matrix[0:3][:] = 1\n",
    "feature_12_matrix[3][:] = 3\n",
    "feature_12_min = data.iloc[:, 12].min()\n",
    "feature_12_max = data.iloc[:, 12].max()\n",
    "\n",
    "feature_13_matrix = np.zeros((4, 2))\n",
    "feature_13_matrix[0:3][:] = 1\n",
    "feature_13_matrix[3][:] = 3\n",
    "feature_13_min = data.iloc[:, 13].min()\n",
    "feature_13_max = data.iloc[:, 13].max()\n",
    "\n",
    "feature_14_matrix = np.zeros((4, 2))\n",
    "feature_14_matrix[0:3][:] = 1\n",
    "feature_14_matrix[3][:] = 3\n",
    "feature_14_min = data.iloc[:, 14].min()\n",
    "feature_14_max = data.iloc[:, 14].max()\n",
    "\n",
    "feature_15_matrix = np.zeros((4, 2))\n",
    "feature_15_matrix[0:3][:] = 1\n",
    "feature_15_matrix[3][:] = 3\n",
    "feature_15_min = data.iloc[:, 15].min()\n",
    "feature_15_max = data.iloc[:, 15].max()\n",
    "\n",
    "feature_16_matrix = np.zeros((4, 2))\n",
    "feature_16_matrix[0:3][:] = 1\n",
    "feature_16_matrix[3][:] = 3\n",
    "feature_16_min = data.iloc[:, 16].min()\n",
    "feature_16_max = data.iloc[:, 16].max()\n",
    "\n",
    "feature_17_matrix = np.zeros((4, 2))\n",
    "feature_17_matrix[0:3][:] = 1\n",
    "feature_17_matrix[3][:] = 3\n",
    "feature_17_min = data.iloc[:, 17].min()\n",
    "feature_17_max = data.iloc[:, 17].max()\n",
    "\n",
    "# initialize probability matrices for each feature using data\n",
    "for index, data_point in data.iterrows():\n",
    "    data_point_class = int(data_point[19])\n",
    "\n",
    "    # feature 0 probability\n",
    "    if data_point[0] == 0:\n",
    "        feature_0_matrix[0, data_point_class] = feature_0_matrix[0, data_point_class] + 1\n",
    "    else:\n",
    "        feature_0_matrix[1, data_point_class] = feature_0_matrix[1, data_point_class] + 1\n",
    "    feature_0_matrix[2, data_point_class] = feature_0_matrix[2, data_point_class] + 1\n",
    "    \n",
    "    # feature 1 probability\n",
    "    if data_point[1] == 0:\n",
    "        feature_1_matrix[0, data_point_class] = feature_1_matrix[0, data_point_class] + 1\n",
    "    else:\n",
    "        feature_1_matrix[1, data_point_class] = feature_1_matrix[1, data_point_class] + 1\n",
    "    feature_1_matrix[2, data_point_class] = feature_1_matrix[2, data_point_class] + 1\n",
    "\n",
    "    # feature 2 probability\n",
    "    if feature_2_min <= data_point[2] and data_point[2] <= feature_2_min + (feature_2_max - feature_2_min)/3.0:\n",
    "        feature_2_matrix[0, data_point_class] = feature_2_matrix[0, data_point_class] + 1\n",
    "    elif feature_2_min + (feature_2_max - feature_2_min)/3.0 <= data_point[2] and data_point[2] <= feature_2_min + 2.0*(feature_2_max - feature_2_min)/3.0:\n",
    "        feature_2_matrix[1, data_point_class] = feature_2_matrix[1, data_point_class] + 1\n",
    "    else:\n",
    "        feature_2_matrix[2, data_point_class] = feature_2_matrix[2, data_point_class] + 1\n",
    "    feature_2_matrix[3, data_point_class] = feature_2_matrix[3, data_point_class] + 1\n",
    "\n",
    "    # feature 3 probability\n",
    "    if feature_3_min <= data_point[3] and data_point[3] <= feature_3_min + (feature_3_max - feature_3_min)/3.0:\n",
    "        feature_3_matrix[0, data_point_class] = feature_3_matrix[0, data_point_class] + 1\n",
    "    elif feature_3_min + (feature_3_max - feature_3_min)/3.0 <= data_point[3] and data_point[3] <= feature_3_min + 2.0*(feature_3_max - feature_3_min)/3.0:\n",
    "        feature_3_matrix[1, data_point_class] = feature_3_matrix[1, data_point_class] + 1\n",
    "    else:\n",
    "        feature_3_matrix[2, data_point_class] = feature_3_matrix[2, data_point_class] + 1\n",
    "    feature_3_matrix[3, data_point_class] = feature_3_matrix[3, data_point_class] + 1 \n",
    "\n",
    "    # feature 4 probability\n",
    "    if feature_4_min <= data_point[4] and data_point[4] <= feature_4_min + (feature_4_max - feature_4_min)/3.0:\n",
    "        feature_4_matrix[0, data_point_class] = feature_4_matrix[0, data_point_class] + 1\n",
    "    elif feature_4_min + (feature_4_max - feature_4_min)/3.0 <= data_point[4] and data_point[4] <= feature_4_min + 2.0*(feature_4_max - feature_4_min)/3.0:\n",
    "        feature_4_matrix[1, data_point_class] = feature_4_matrix[1, data_point_class] + 1\n",
    "    else:\n",
    "        feature_4_matrix[2, data_point_class] = feature_4_matrix[2, data_point_class] + 1\n",
    "    feature_4_matrix[3, data_point_class] = feature_4_matrix[3, data_point_class] + 1 \n",
    "    \n",
    "    # feature 5 probability\n",
    "    if feature_5_min <= data_point[5] and data_point[5] <= feature_5_min + (feature_5_max - feature_5_min)/3.0:\n",
    "        feature_5_matrix[0, data_point_class] = feature_5_matrix[0, data_point_class] + 1\n",
    "    elif feature_5_min + (feature_5_max - feature_5_min)/3.0 <= data_point[5] and data_point[5] <= feature_5_min + 2.0*(feature_5_max - feature_5_min)/3.0:\n",
    "        feature_5_matrix[1, data_point_class] = feature_5_matrix[1, data_point_class] + 1\n",
    "    else:\n",
    "        feature_5_matrix[2, data_point_class] = feature_5_matrix[2, data_point_class] + 1\n",
    "    feature_5_matrix[3, data_point_class] = feature_5_matrix[3, data_point_class] + 1\n",
    "    \n",
    "    # feature 6 probability\n",
    "    if feature_6_min <= data_point[6] and data_point[6] <= feature_6_min + (feature_6_max - feature_6_min)/3.0:\n",
    "        feature_6_matrix[0, data_point_class] = feature_6_matrix[0, data_point_class] + 1\n",
    "    elif feature_6_min + (feature_6_max - feature_6_min)/3.0 <= data_point[6] and data_point[6] <= feature_6_min + 2.0*(feature_6_max - feature_6_min)/3.0:\n",
    "        feature_6_matrix[1, data_point_class] = feature_6_matrix[1, data_point_class] + 1\n",
    "    else:\n",
    "        feature_6_matrix[2, data_point_class] = feature_6_matrix[2, data_point_class] + 1\n",
    "    feature_6_matrix[3, data_point_class] = feature_6_matrix[3, data_point_class] + 1 \n",
    "        \n",
    "    # feature 7 probability\n",
    "    if feature_7_min <= data_point[7] and data_point[7] <= feature_7_min + (feature_7_max - feature_7_min)/3.0:\n",
    "        feature_7_matrix[0, data_point_class] = feature_7_matrix[0, data_point_class] + 1\n",
    "    elif feature_7_min + (feature_7_max - feature_7_min)/3.0 <= data_point[7] and data_point[7] <= feature_7_min + 2.0*(feature_7_max - feature_7_min)/3.0:\n",
    "        feature_7_matrix[1, data_point_class] = feature_7_matrix[1, data_point_class] + 1\n",
    "    else:\n",
    "        feature_7_matrix[2, data_point_class] = feature_7_matrix[2, data_point_class] + 1\n",
    "    feature_7_matrix[3, data_point_class] = feature_7_matrix[3, data_point_class] + 1\n",
    "    \n",
    "    # feature 8 probability\n",
    "    if feature_8_min <= data_point[8] and data_point[8] <= feature_8_min + (feature_8_max - feature_8_min)/3.0:\n",
    "        feature_8_matrix[0, data_point_class] = feature_8_matrix[0, data_point_class] + 1\n",
    "    elif feature_8_min + (feature_8_max - feature_8_min)/3.0 <= data_point[8] and data_point[8] <= feature_8_min + 2.0*(feature_8_max - feature_8_min)/3.0:\n",
    "        feature_8_matrix[1, data_point_class] = feature_8_matrix[1, data_point_class] + 1\n",
    "    else:\n",
    "        feature_8_matrix[2, data_point_class] = feature_8_matrix[2, data_point_class] + 1\n",
    "    feature_8_matrix[3, data_point_class] = feature_8_matrix[3, data_point_class] + 1     \n",
    "    \n",
    "    # feature 9 probability\n",
    "    if feature_9_min <= data_point[9] and data_point[9] <= feature_9_min + (feature_9_max - feature_9_min)/3.0:\n",
    "        feature_9_matrix[0, data_point_class] = feature_9_matrix[0, data_point_class] + 1\n",
    "    elif feature_9_min + (feature_9_max - feature_9_min)/3.0 <= data_point[9] and data_point[9] <= feature_9_min + 2.0*(feature_9_max - feature_9_min)/3.0:\n",
    "        feature_9_matrix[1, data_point_class] = feature_9_matrix[1, data_point_class] + 1\n",
    "    else:\n",
    "        feature_9_matrix[2, data_point_class] = feature_9_matrix[2, data_point_class] + 1\n",
    "    feature_9_matrix[3, data_point_class] = feature_9_matrix[3, data_point_class] + 1     \n",
    "    \n",
    "    # feature 10 probability\n",
    "    if feature_10_min <= data_point[10] and data_point[10] <= feature_10_min + (feature_10_max - feature_10_min)/3.0:\n",
    "        feature_10_matrix[0, data_point_class] = feature_10_matrix[0, data_point_class] + 1\n",
    "    elif feature_10_min + (feature_10_max - feature_10_min)/3.0 <= data_point[10] and data_point[10] <= feature_10_min + 2.0*(feature_10_max - feature_10_min)/3.0:\n",
    "        feature_10_matrix[1, data_point_class] = feature_10_matrix[1, data_point_class] + 1\n",
    "    else:\n",
    "        feature_10_matrix[2, data_point_class] = feature_10_matrix[2, data_point_class] + 1\n",
    "    feature_10_matrix[3, data_point_class] = feature_10_matrix[3, data_point_class] + 1     \n",
    "    \n",
    "    # feature 11 probability\n",
    "    if feature_11_min <= data_point[11] and data_point[11] <= feature_11_min + (feature_11_max - feature_11_min)/3.0:\n",
    "        feature_11_matrix[0, data_point_class] = feature_11_matrix[0, data_point_class] + 1\n",
    "    elif feature_11_min + (feature_11_max - feature_11_min)/3.0 <= data_point[11] and data_point[11] <= feature_11_min + 2.0*(feature_11_max - feature_11_min)/3.0:\n",
    "        feature_11_matrix[1, data_point_class] = feature_11_matrix[1, data_point_class] + 1\n",
    "    else:\n",
    "        feature_11_matrix[2, data_point_class] = feature_11_matrix[2, data_point_class] + 1\n",
    "    feature_11_matrix[3, data_point_class] = feature_11_matrix[3, data_point_class] + 1     \n",
    "    \n",
    "    # feature 12 probability\n",
    "    if feature_12_min <= data_point[12] and data_point[12] <= feature_12_min + (feature_12_max - feature_12_min)/3.0:\n",
    "        feature_12_matrix[0, data_point_class] = feature_12_matrix[0, data_point_class] + 1\n",
    "    elif feature_12_min + (feature_12_max - feature_12_min)/3.0 <= data_point[12] and data_point[12] <= feature_12_min + 2.0*(feature_12_max - feature_12_min)/3.0:\n",
    "        feature_12_matrix[1, data_point_class] = feature_12_matrix[1, data_point_class] + 1\n",
    "    else:\n",
    "        feature_12_matrix[2, data_point_class] = feature_12_matrix[2, data_point_class] + 1\n",
    "    feature_12_matrix[3, data_point_class] = feature_12_matrix[3, data_point_class] + 1     \n",
    "    \n",
    "    # feature 13 probability\n",
    "    if feature_13_min <= data_point[13] and data_point[13] <= feature_13_min + (feature_13_max - feature_13_min)/3.0:\n",
    "        feature_13_matrix[0, data_point_class] = feature_13_matrix[0, data_point_class] + 1\n",
    "    elif feature_13_min + (feature_13_max - feature_13_min)/3.0 <= data_point[13] and data_point[13] <= feature_13_min + 2.0*(feature_13_max - feature_13_min)/3.0:\n",
    "        feature_13_matrix[1, data_point_class] = feature_13_matrix[1, data_point_class] + 1\n",
    "    else:\n",
    "        feature_13_matrix[2, data_point_class] = feature_13_matrix[2, data_point_class] + 1\n",
    "    feature_13_matrix[3, data_point_class] = feature_13_matrix[3, data_point_class] + 1     \n",
    "    \n",
    "    # feature 14 probability\n",
    "    if feature_14_min <= data_point[14] and data_point[14] <= feature_14_min + (feature_14_max - feature_14_min)/3.0:\n",
    "        feature_14_matrix[0, data_point_class] = feature_14_matrix[0, data_point_class] + 1\n",
    "    elif feature_14_min + (feature_14_max - feature_14_min)/3.0 <= data_point[14] and data_point[14] <= feature_14_min + 2.0*(feature_14_max - feature_14_min)/3.0:\n",
    "        feature_14_matrix[1, data_point_class] = feature_14_matrix[1, data_point_class] + 1\n",
    "    else:\n",
    "        feature_14_matrix[2, data_point_class] = feature_14_matrix[2, data_point_class] + 1\n",
    "    feature_14_matrix[3, data_point_class] = feature_14_matrix[3, data_point_class] + 1    \n",
    "    \n",
    "    # feature 15 probability\n",
    "    if feature_15_min <= data_point[15] and data_point[15] <= feature_15_min + (feature_15_max - feature_15_min)/3.0:\n",
    "        feature_15_matrix[0, data_point_class] = feature_15_matrix[0, data_point_class] + 1\n",
    "    elif feature_15_min + (feature_15_max - feature_15_min)/3.0 <= data_point[15] and data_point[15] <= feature_15_min + 2.0*(feature_15_max - feature_15_min)/3.0:\n",
    "        feature_15_matrix[1, data_point_class] = feature_15_matrix[1, data_point_class] + 1\n",
    "    else:\n",
    "        feature_15_matrix[2, data_point_class] = feature_15_matrix[2, data_point_class] + 1\n",
    "    feature_15_matrix[3, data_point_class] = feature_15_matrix[3, data_point_class] + 1 \n",
    "    \n",
    "    # feature 16 probability\n",
    "    if feature_16_min <= data_point[16] and data_point[16] <= feature_16_min + (feature_16_max - feature_16_min)/3.0:\n",
    "        feature_16_matrix[0, data_point_class] = feature_16_matrix[0, data_point_class] + 1\n",
    "    elif feature_16_min + (feature_16_max - feature_16_min)/3.0 <= data_point[16] and data_point[16] <= feature_16_min + 2.0*(feature_16_max - feature_16_min)/3.0:\n",
    "        feature_16_matrix[1, data_point_class] = feature_16_matrix[1, data_point_class] + 1\n",
    "    else:\n",
    "        feature_16_matrix[2, data_point_class] = feature_16_matrix[2, data_point_class] + 1\n",
    "    feature_16_matrix[3, data_point_class] = feature_16_matrix[3, data_point_class] + 1     \n",
    "    \n",
    "    # feature 17 probability\n",
    "    if feature_17_min <= data_point[17] and data_point[17] <= feature_17_min + (feature_17_max - feature_17_min)/3.0:\n",
    "        feature_17_matrix[0, data_point_class] = feature_17_matrix[0, data_point_class] + 1\n",
    "    elif feature_17_min + (feature_17_max - feature_17_min)/3.0 <= data_point[17] and data_point[17] <= feature_17_min + 2.0*(feature_17_max - feature_17_min)/3.0:\n",
    "        feature_17_matrix[1, data_point_class] = feature_17_matrix[1, data_point_class] + 1\n",
    "    else:\n",
    "        feature_17_matrix[2, data_point_class] = feature_17_matrix[2, data_point_class] + 1\n",
    "    feature_17_matrix[3, data_point_class] = feature_17_matrix[3, data_point_class] + 1     \n",
    "    \n",
    "    \n",
    "\n",
    "# initialize probability of classes\n",
    "p_0 = data[19].value_counts()[0]/1151.0\n",
    "p_1 = data[19].value_counts()[1]/1151.0\n",
    "\n",
    "# 5 fold cross validation loop\n",
    "start = 0\n",
    "end = int(1151/5)\n",
    "for i in range(0,4):\n",
    "    test_data = \n",
    "    \n",
    "    start = end + 1\n",
    "    end = end + 230\n",
    "    \n",
    "    \n"
   ]
  },
  {
   "cell_type": "markdown",
   "metadata": {},
   "source": [
    "\n",
    "## Part 2: K Nearest Neighbor (KNN) Classifier\n",
    "\n",
    "The KNN classifier consists of two stages:-\n",
    "- In the training stage, the classifier takes the training data and simply memorizes it\n",
    "- In the test stage, the classifier compares the test data with the training data and simply returns the maximum occuring label of the k nearest data points.\n",
    "\n",
    "The distance calculation method is central to the algorithm, typically Euclidean distance is used but other distance metrics like Manhattan distance can also be used. In this assignment you'll be implementing the classifier using the Euclidean distance metric. It is important to note that Euclidean distance is very sensitive to the scaling of different attributes hence, before you can build your classifier you have to normalize the values of each feature in the data set."
   ]
  },
  {
   "cell_type": "markdown",
   "metadata": {},
   "source": [
    "Q2. Normalize the dataset so that each feature value lies between `[0-1]`."
   ]
  },
  {
   "cell_type": "code",
   "execution_count": 6,
   "metadata": {
    "collapsed": true
   },
   "outputs": [],
   "source": [
    "# your code goes here\n"
   ]
  },
  {
   "cell_type": "markdown",
   "metadata": {},
   "source": [
    "Q3. Build your KNN classifier. "
   ]
  },
  {
   "cell_type": "code",
   "execution_count": 7,
   "metadata": {
    "collapsed": true
   },
   "outputs": [],
   "source": [
    "# your code goes here\n"
   ]
  },
  {
   "cell_type": "markdown",
   "metadata": {},
   "source": [
    "Q4. Find the best value of k for this data. Try k ranging from 1 to 10. For each k value, use a 5-fold cross validation to evaluate the accuracy with that k. In each fold of CV, divide your data into a training set and a validation set. Print out the best value of k and the accuracy achieved with that value. Return the best value of k. "
   ]
  },
  {
   "cell_type": "code",
   "execution_count": 2,
   "metadata": {
    "collapsed": true
   },
   "outputs": [],
   "source": [
    "# your code goes here\n"
   ]
  },
  {
   "cell_type": "markdown",
   "metadata": {},
   "source": [
    "Q5. Now measure the accuracy of your classifier using 5-fold cross validation. In each fold of this CV, divide your data into a training set and a test set. The training set should get sent through your code for Q4, resulting in a value of k to use. Using that k, calculate an accuracy on the test set. You will average the accuracy over all 5 folds to obtain the final accuracy measurement. Print the accuracy as well as the precision and recall for class label 1 (patients that have been diagnosed with the disease)."
   ]
  },
  {
   "cell_type": "code",
   "execution_count": 8,
   "metadata": {
    "collapsed": true
   },
   "outputs": [],
   "source": [
    "# your code goes here\n"
   ]
  }
 ],
 "metadata": {
  "kernelspec": {
   "display_name": "Python 3",
   "language": "python",
   "name": "python3"
  },
  "language_info": {
   "codemirror_mode": {
    "name": "ipython",
    "version": 3
   },
   "file_extension": ".py",
   "mimetype": "text/x-python",
   "name": "python",
   "nbconvert_exporter": "python",
   "pygments_lexer": "ipython3",
   "version": "3.7.3"
  }
 },
 "nbformat": 4,
 "nbformat_minor": 2
}
